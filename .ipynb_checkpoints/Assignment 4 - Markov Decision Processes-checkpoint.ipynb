{
 "cells": [
  {
   "cell_type": "code",
   "execution_count": 8,
   "metadata": {},
   "outputs": [],
   "source": [
    "import scipy as sp\n",
    "import itertools\n",
    "import numpy as np\n",
    "import pandas as pd\n",
    "import seaborn as sns\n",
    "import matplotlib.pyplot as plt\n",
    "import matplotlib.cm as cm\n",
    "from time import time\n",
    "import matplotlib as mpl\n",
    "mpl.rc('figure', figsize=[10,5])\n",
    "\n",
    "import hiive.mdptoolbox, hiive.mdptoolbox.example, hiive.mdptoolbox.mdp\n",
    "import gym\n",
    "from frozenlake_env import FrozenLakeEnv\n"
   ]
  },
  {
   "cell_type": "markdown",
   "metadata": {},
   "source": [
    "# Frozen Lake 4x4 and 8x8\n"
   ]
  },
  {
   "cell_type": "code",
   "execution_count": null,
   "metadata": {},
   "outputs": [],
   "source": [
    "# credit https://github.com/wesley-smith/CS7641-assignment-4/blob/f3d86e37504dda563f65b3267610a30f09d01c77/helpers.py\n",
    "TERM_STATE_MAP = {\"4x4\": [5, 7, 11, 12], \"8x8\": [19, 29, 35, 41, 42, 46, 49, 52, 54, 59]}\n",
    "GOAL_STATE_MAP = {\"4x4\": [15], \"8x8\": [63]}\n",
    "\n",
    "def visualize_env(env, env_name, title=None):\n",
    "    shape = env.desc.shape\n",
    "    M = shape[0]\n",
    "    N = shape[1]\n",
    "    arr = np.zeros(shape)\n",
    "    for i in range(M):\n",
    "        for j in range(N):\n",
    "            if (N * i + j) in TERM_STATE_MAP[env_name]:\n",
    "                arr[i, j] = 0.25\n",
    "            elif (N * i + j) in GOAL_STATE_MAP[env_name]:\n",
    "                arr[i, j] = 1.0\n",
    "    fig, ax = plt.subplots(figsize=(6,6))\n",
    "    im = ax.imshow(arr, cmap='cool')\n",
    "    ax.set_xticks(np.arange(M))\n",
    "    ax.set_yticks(np.arange(N))\n",
    "    ax.set_xticklabels(np.arange(M))\n",
    "    ax.set_yticklabels(np.arange(N))\n",
    "    ax.set_xticks(np.arange(-0.5, M, 1), minor=True)\n",
    "    ax.set_yticks(np.arange(-0.5, N, 1), minor=True)\n",
    "    ax.grid(False)\n",
    "    ax.grid(which='minor', color='w', linewidth=2)\n",
    "\n",
    "    for i in range(M):\n",
    "        for j in range(N):\n",
    "            if (i, j) == (0, 0):\n",
    "                ax.text(j, i, 'S', ha='center', va='center', color='k', size=18)\n",
    "            if (N * i + j) in TERM_STATE_MAP[env_name]:\n",
    "                ax.text(j, i, 'x', ha='center', va='center', color='k', size=18)\n",
    "            elif (N * i + j) in GOAL_STATE_MAP[env_name]:\n",
    "                ax.text(j, i, '$', ha='center', va='center', color='k', size=18)\n",
    "            else:\n",
    "                pass\n",
    "    fig.tight_layout()\n",
    "    if title:\n",
    "        ax.set_title(title)\n",
    "    plt.show()\n",
    "\n",
    "\n",
    "def visualize_policy(pi, env_name, shape, title=None):\n",
    "    M = shape[0]\n",
    "    N = shape[1]\n",
    "    actions = np.argmax(pi, axis=1).reshape(shape)\n",
    "    mapping = {\n",
    "        0: '<',\n",
    "        1: 'v',\n",
    "        2: '>',\n",
    "        3: '^'\n",
    "    }\n",
    "    arr = np.zeros(shape)\n",
    "    for i in range(M):\n",
    "        for j in range(N):\n",
    "            if (N * i + j) in TERM_STATE_MAP[env_name]:\n",
    "                arr[i, j] = 0.25\n",
    "            elif (N * i + j) in GOAL_STATE_MAP[env_name]:\n",
    "                arr[i, j] = 1.0\n",
    "    fig, ax = plt.subplots(figsize=(6,6))\n",
    "    im = ax.imshow(arr, cmap='cool')\n",
    "    ax.set_xticks(np.arange(M))\n",
    "    ax.set_yticks(np.arange(N))\n",
    "    ax.set_xticklabels(np.arange(M))\n",
    "    ax.set_yticklabels(np.arange(N))\n",
    "    ax.set_xticks(np.arange(-0.5, M, 1), minor=True)\n",
    "    ax.set_yticks(np.arange(-0.5, N, 1), minor=True)\n",
    "    ax.grid(False)\n",
    "    ax.grid(which='minor', color='w', linewidth=2)\n",
    "\n",
    "    for i in range(M):\n",
    "        for j in range(N):\n",
    "            if (N * i + j) in TERM_STATE_MAP[env_name]:\n",
    "                ax.text(j, i, 'x', ha='center', va='center', color='k', size=18)\n",
    "            elif (N * i + j) in GOAL_STATE_MAP[env_name]:\n",
    "                ax.text(j, i, '$', ha='center', va='center', color='k', size=18)\n",
    "            else:\n",
    "                ax.text(j, i, mapping[actions[i, j]], ha='center', va='center', color='k', size=18)\n",
    "    # fig.tight_layout()\n",
    "    if title:\n",
    "        ax.set_title(title)\n",
    "    plt.show()\n",
    "\n",
    "def render_policy(pi, env_name, shape):\n",
    "    actions = np.argmax(pi, axis=1)\n",
    "    for index in TERM_STATE_MAP[env_name]:\n",
    "        actions[index] = 999\n",
    "    for index in GOAL_STATE_MAP[env_name]:\n",
    "        actions[index] = 1000\n",
    "\n",
    "    pi = np.reshape(actions, shape)\n",
    "\n",
    "    mapping = {\n",
    "        0: ' < ',\n",
    "        1: ' v ',\n",
    "        2: ' > ',\n",
    "        3: ' ^ ',\n",
    "        999: ' . ',\n",
    "        1000: ' $ '\n",
    "    }\n",
    "    mapper = np.vectorize(lambda k: mapping[k])\n",
    "    np.apply_along_axis(lambda row: print(' '.join(row)), axis=1, arr=mapper(pi))\n",
    "\n",
    "\n",
    "def visualize_value(V, env_name, shape, title=None):\n",
    "    M = shape[0]\n",
    "    N = shape[1]\n",
    "    fig, ax = plt.subplots(figsize=(6,6))\n",
    "    arr = V.reshape(shape)\n",
    "    im = ax.imshow(arr, cmap='cool')\n",
    "    ax.set_xticks(np.arange(M))\n",
    "    ax.set_yticks(np.arange(N))\n",
    "    ax.set_xticklabels(np.arange(M))\n",
    "    ax.set_yticklabels(np.arange(N))\n",
    "    ax.set_xticks(np.arange(-0.5, M, 1), minor=True)\n",
    "    ax.set_yticks(np.arange(-0.5, N, 1), minor=True)\n",
    "    ax.grid(False)\n",
    "    ax.grid(which='minor', color='w', linewidth=2)\n",
    "    for i in range(M):\n",
    "        for j in range(N):\n",
    "            if (N * i + j) in TERM_STATE_MAP[env_name]:\n",
    "                ax.text(j, i, 'x', ha='center', va='center', color='k')\n",
    "            elif (N * i + j) in GOAL_STATE_MAP[env_name]:\n",
    "                ax.text(j, i, '$', ha='center', va='center', color='k')\n",
    "            else:\n",
    "                ax.text(j, i, '%.2f' % (arr[i, j]), ha='center', va='center', color='k')\n",
    "    # fig.tight_layout()\n",
    "    cbar = ax.figure.colorbar(im, ax=ax)\n",
    "    cbar.ax.set_ylabel('State-value estimate', rotation=-90, va=\"bottom\")\n",
    "    if title:\n",
    "        ax.set_title(title)\n",
    "    plt.show()\n",
    "\n",
    "def better_desc(desc):\n",
    "    mapping = {\n",
    "        b'S': b' S ',\n",
    "        b'F': b' * ',\n",
    "        b'H': b' O ',\n",
    "        b'G': b' $ '\n",
    "    }\n",
    "    mapper = np.vectorize(lambda k: mapping[k])\n",
    "    return mapper(desc)"
   ]
  },
  {
   "cell_type": "code",
   "execution_count": 3,
   "metadata": {},
   "outputs": [],
   "source": [
    "P,R = hiive.mdptoolbox.example.forest()"
   ]
  },
  {
   "cell_type": "code",
   "execution_count": 4,
   "metadata": {},
   "outputs": [],
   "source": [
    "value = hiive.mdptoolbox.mdp.ValueIteration(P, R, 0.96)"
   ]
  },
  {
   "cell_type": "code",
   "execution_count": 5,
   "metadata": {},
   "outputs": [
    {
     "data": {
      "text/plain": [
       "array([[[0.1, 0.9, 0. ],\n",
       "        [0.1, 0. , 0.9],\n",
       "        [0.1, 0. , 0.9]],\n",
       "\n",
       "       [[1. , 0. , 0. ],\n",
       "        [1. , 0. , 0. ],\n",
       "        [1. , 0. , 0. ]]])"
      ]
     },
     "execution_count": 5,
     "metadata": {},
     "output_type": "execute_result"
    }
   ],
   "source": [
    "P"
   ]
  },
  {
   "cell_type": "code",
   "execution_count": 6,
   "metadata": {},
   "outputs": [
    {
     "data": {
      "text/plain": [
       "array([[0., 0.],\n",
       "       [0., 1.],\n",
       "       [4., 2.]])"
      ]
     },
     "execution_count": 6,
     "metadata": {},
     "output_type": "execute_result"
    }
   ],
   "source": [
    "R"
   ]
  },
  {
   "cell_type": "code",
   "execution_count": 7,
   "metadata": {},
   "outputs": [
    {
     "data": {
      "text/plain": [
       "P: \n",
       "array([[0.1, 0.9, 0. ],\n",
       "       [0.1, 0. , 0.9],\n",
       "       [0.1, 0. , 0.9]])\n",
       "array([[1., 0., 0.],\n",
       "       [1., 0., 0.],\n",
       "       [1., 0., 0.]])\n",
       "\n",
       "R: \n",
       "array([0., 0., 4.])\n",
       "array([0., 1., 2.])"
      ]
     },
     "execution_count": 7,
     "metadata": {},
     "output_type": "execute_result"
    }
   ],
   "source": [
    "value"
   ]
  },
  {
   "cell_type": "code",
   "execution_count": null,
   "metadata": {},
   "outputs": [],
   "source": []
  }
 ],
 "metadata": {
  "kernelspec": {
   "display_name": "Python 3",
   "language": "python",
   "name": "python3"
  },
  "language_info": {
   "codemirror_mode": {
    "name": "ipython",
    "version": 3
   },
   "file_extension": ".py",
   "mimetype": "text/x-python",
   "name": "python",
   "nbconvert_exporter": "python",
   "pygments_lexer": "ipython3",
   "version": "3.6.8"
  }
 },
 "nbformat": 4,
 "nbformat_minor": 5
}
